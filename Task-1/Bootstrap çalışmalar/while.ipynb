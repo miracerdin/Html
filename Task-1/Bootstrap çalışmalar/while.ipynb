{
 "cells": [
  {
   "cell_type": "code",
   "execution_count": 1,
   "metadata": {},
   "outputs": [
    {
     "data": {
      "text/plain": [
       "5"
      ]
     },
     "execution_count": 1,
     "metadata": {},
     "output_type": "execute_result"
    }
   ],
   "source": [
    "a = 5\n",
    "a"
   ]
  },
  {
   "cell_type": "code",
   "execution_count": 8,
   "metadata": {},
   "outputs": [
    {
     "name": "stdout",
     "output_type": "stream",
     "text": [
      "gdsfsaf\n"
     ]
    }
   ],
   "source": [
    "x = input(\"give me a word\")\n",
    "print(x)"
   ]
  },
  {
   "cell_type": "code",
   "execution_count": 2,
   "metadata": {},
   "outputs": [
    {
     "name": "stdout",
     "output_type": "stream",
     "text": [
      "5\n"
     ]
    }
   ],
   "source": [
    "a = 5\n",
    "print(a)"
   ]
  },
  {
   "cell_type": "code",
   "execution_count": 7,
   "metadata": {},
   "outputs": [
    {
     "name": "stdout",
     "output_type": "stream",
     "text": [
      "sadfsadf\n"
     ]
    }
   ],
   "source": [
    "x = input(\"\")\n",
    "print(x)"
   ]
  },
  {
   "cell_type": "code",
   "execution_count": 1,
   "metadata": {},
   "outputs": [
    {
     "name": "stdout",
     "output_type": "stream",
     "text": [
      "5\n"
     ]
    }
   ],
   "source": [
    "a = 5\n",
    "print(a)"
   ]
  },
  {
   "cell_type": "code",
   "execution_count": 4,
   "metadata": {},
   "outputs": [
    {
     "data": {
      "text/plain": [
       "6"
      ]
     },
     "execution_count": 4,
     "metadata": {},
     "output_type": "execute_result"
    }
   ],
   "source": [
    "a = '1, 2, 54, 85, \"hello\", \"string\"'.split()\n",
    "len(a)\n"
   ]
  },
  {
   "cell_type": "code",
   "execution_count": 11,
   "metadata": {},
   "outputs": [
    {
     "name": "stdout",
     "output_type": "stream",
     "text": [
      "suare of 0 is: \n",
      "suare of 1 is: \n",
      "suare of 2 is: \n",
      "suare of 3 is: \n",
      "suare of 4 is: \n"
     ]
    }
   ],
   "source": [
    "my_list = [\"a\", \"b\", \"c\", \"d\", \"e\"]\n",
    "a = 0\n",
    "while a< len(my_list):\n",
    "    print(\"suare of {} is: \".format(a, a**2))\n",
    "    a+= 1"
   ]
  },
  {
   "cell_type": "code",
   "execution_count": 6,
   "metadata": {},
   "outputs": [
    {
     "name": "stdout",
     "output_type": "stream",
     "text": [
      "you entered incorrectly\n",
      "great you entered valid input\n"
     ]
    }
   ],
   "source": [
    "age = input(\"yaş giriniz: \")\n",
    "while not age.isdigit():\n",
    "    print(\"you entered incorrectly\")\n",
    "    age = input(\"enter your age please\")\n",
    "print(\"great you entered valid input\")\n"
   ]
  },
  {
   "cell_type": "code",
   "execution_count": 26,
   "metadata": {},
   "outputs": [
    {
     "name": "stdout",
     "output_type": "stream",
     "text": [
      "A little low\n",
      "A littlee higher\n",
      "A littlee higher\n",
      "A littlee higher\n",
      "A little low\n"
     ]
    },
    {
     "ename": "ValueError",
     "evalue": "invalid literal for int() with base 10: '14,'",
     "output_type": "error",
     "traceback": [
      "\u001b[0;31m---------------------------------------------------------------------------\u001b[0m",
      "\u001b[0;31mValueError\u001b[0m                                Traceback (most recent call last)",
      "\u001b[1;32m/home/mirac/Documents/Task-1/Bootstrap çalışmalar/while.ipynb Cell 9'\u001b[0m in \u001b[0;36m<module>\u001b[0;34m\u001b[0m\n\u001b[1;32m      <a href='vscode-notebook-cell:/home/mirac/Documents/Task-1/Bootstrap%20%C3%A7al%C4%B1%C5%9Fmalar/while.ipynb#ch0000008?line=2'>3</a>\u001b[0m alcak \u001b[39m=\u001b[39m \u001b[39mrange\u001b[39m(\u001b[39m0\u001b[39m, \u001b[39m15\u001b[39m)\n\u001b[1;32m      <a href='vscode-notebook-cell:/home/mirac/Documents/Task-1/Bootstrap%20%C3%A7al%C4%B1%C5%9Fmalar/while.ipynb#ch0000008?line=4'>5</a>\u001b[0m \u001b[39mwhile\u001b[39;00m \u001b[39mTrue\u001b[39;00m:\n\u001b[0;32m----> <a href='vscode-notebook-cell:/home/mirac/Documents/Task-1/Bootstrap%20%C3%A7al%C4%B1%C5%9Fmalar/while.ipynb#ch0000008?line=5'>6</a>\u001b[0m     girdi \u001b[39m=\u001b[39m \u001b[39mint\u001b[39;49m(\u001b[39minput\u001b[39;49m(\u001b[39m\"\u001b[39;49m\u001b[39msayı veriniz:\u001b[39;49m\u001b[39m\"\u001b[39;49m))\n\u001b[1;32m      <a href='vscode-notebook-cell:/home/mirac/Documents/Task-1/Bootstrap%20%C3%A7al%C4%B1%C5%9Fmalar/while.ipynb#ch0000008?line=6'>7</a>\u001b[0m     \u001b[39mif\u001b[39;00m girdi \u001b[39min\u001b[39;00m yüksek:\n\u001b[1;32m      <a href='vscode-notebook-cell:/home/mirac/Documents/Task-1/Bootstrap%20%C3%A7al%C4%B1%C5%9Fmalar/while.ipynb#ch0000008?line=7'>8</a>\u001b[0m         \u001b[39mprint\u001b[39m(\u001b[39m\"\u001b[39m\u001b[39mA littlee higher\u001b[39m\u001b[39m\"\u001b[39m)\n",
      "\u001b[0;31mValueError\u001b[0m: invalid literal for int() with base 10: '14,'"
     ]
    }
   ],
   "source": [
    "sayı = 15\n",
    "yüksek = range(16, 55)\n",
    "alcak = range(0, 15)\n",
    "\n",
    "while True:\n",
    "    girdi = int(input(\"sayı veriniz:\"))\n",
    "    if girdi in yüksek:\n",
    "        print(\"A littlee higher\")\n",
    "       \n",
    "    elif girdi in alcak:\n",
    "        print(\"A little low\")\n",
    "        \n",
    "    else:\n",
    "        print(\"correct\")\n",
    "        break\n"
   ]
  },
  {
   "cell_type": "code",
   "execution_count": 46,
   "metadata": {},
   "outputs": [
    {
     "name": "stdout",
     "output_type": "stream",
     "text": [
      "En uzun kelime 5\n"
     ]
    }
   ],
   "source": [
    "user = \" hello world how are you\".split()\n",
    "longest = 0\n",
    "i = 0\n",
    "while i < len(user):\n",
    "    if len(user[i]) > longest:\n",
    "        longest = len(user[i])\n",
    "    i += 1\n",
    "print(\"En uzun kelime\", longest)\n",
    "    \n",
    "\n",
    "\n",
    "\n",
    "    "
   ]
  },
  {
   "cell_type": "code",
   "execution_count": 47,
   "metadata": {},
   "outputs": [
    {
     "name": "stdout",
     "output_type": "stream",
     "text": [
      "('ali', 'deli', 'veli')\n"
     ]
    }
   ],
   "source": [
    "liste = \"ali\", \"deli\", \"veli\"\n",
    "print(liste[0:len(liste)])"
   ]
  },
  {
   "cell_type": "code",
   "execution_count": 49,
   "metadata": {},
   "outputs": [
    {
     "name": "stdout",
     "output_type": "stream",
     "text": [
      "[1, 2, 3, 4, 5]\n"
     ]
    }
   ],
   "source": [
    "liste = []\n",
    "for i in range(1,6):\n",
    "    liste.append(i)\n",
    "print(liste)"
   ]
  },
  {
   "cell_type": "code",
   "execution_count": 64,
   "metadata": {},
   "outputs": [
    {
     "name": "stdout",
     "output_type": "stream",
     "text": [
      "C-l-a-r-u-s-w-a-y\n"
     ]
    }
   ],
   "source": [
    "input = \"Clarusway\"\n",
    "new_string = \"\"\n",
    "for i in input:\n",
    "    new_string = new_string + \"-\" + i\n",
    "    new_string = new_string.lstrip(\"-\")\n",
    "print(new_string)"
   ]
  },
  {
   "cell_type": "code",
   "execution_count": null,
   "metadata": {},
   "outputs": [],
   "source": []
  },
  {
   "cell_type": "code",
   "execution_count": null,
   "metadata": {},
   "outputs": [],
   "source": []
  },
  {
   "cell_type": "code",
   "execution_count": null,
   "metadata": {},
   "outputs": [],
   "source": []
  },
  {
   "cell_type": "code",
   "execution_count": null,
   "metadata": {},
   "outputs": [],
   "source": []
  },
  {
   "cell_type": "code",
   "execution_count": null,
   "metadata": {},
   "outputs": [],
   "source": []
  }
 ],
 "metadata": {
  "interpreter": {
   "hash": "916dbcbb3f70747c44a77c7bcd40155683ae19c65e1c03b4aa3499c5328201f1"
  },
  "kernelspec": {
   "display_name": "Python 3.8.10 64-bit",
   "language": "python",
   "name": "python3"
  },
  "language_info": {
   "codemirror_mode": {
    "name": "ipython",
    "version": 3
   },
   "file_extension": ".py",
   "mimetype": "text/x-python",
   "name": "python",
   "nbconvert_exporter": "python",
   "pygments_lexer": "ipython3",
   "version": "3.8.10"
  },
  "orig_nbformat": 4
 },
 "nbformat": 4,
 "nbformat_minor": 2
}
