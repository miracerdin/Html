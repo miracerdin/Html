{
 "cells": [
  {
   "cell_type": "markdown",
   "metadata": {},
   "source": [
    "Prime number for nested:\n",
    "n = 100"
   ]
  },
  {
   "cell_type": "code",
   "execution_count": 19,
   "metadata": {},
   "outputs": [
    {
     "name": "stdout",
     "output_type": "stream",
     "text": [
      "2 3 5 7 11 13 17 19 23 29 31 37 41 43 47 53 59 61 67 71 73 79 83 89 97 "
     ]
    }
   ],
   "source": [
    "\n",
    "def primenumbers(n, key=\"numbers\"):\n",
    "    for i in range(2, n+1):\n",
    "        count = 0\n",
    "        for j in range(2, i):\n",
    "            if (i % j == 0):\n",
    "                count += 1\n",
    "        if (count == 0):\n",
    "            print(f\"{i}\", end=\" \")\n",
    "liste = []\n",
    "n = abs(int(input(\"give me a number: \")))\n",
    "primenumbers(n)\n"
   ]
  },
  {
   "cell_type": "code",
   "execution_count": 17,
   "metadata": {},
   "outputs": [
    {
     "name": "stdout",
     "output_type": "stream",
     "text": [
      "15 is not a prime number\n"
     ]
    }
   ],
   "source": [
    "\n",
    "def prime_check(nums):\n",
    "\n",
    "    if nums > 1:\n",
    "        for i in range(2, nums):\n",
    "            if nums % i == 0:\n",
    "                print(\"{} is not a prime number\".format(nums))\n",
    "                break\n",
    "        else:\n",
    "            print(\"{} is a prime number\".format(nums))\n",
    "\n",
    "    else:\n",
    "        print(\"{} is not a prime number\".format(nums))\n",
    "\n",
    "c = int(input(\"\"))\n",
    "prime_check(c)"
   ]
  },
  {
   "cell_type": "code",
   "execution_count": 18,
   "metadata": {},
   "outputs": [
    {
     "name": "stdout",
     "output_type": "stream",
     "text": [
      "55 is not a prime number\n"
     ]
    }
   ],
   "source": [
    "prime_check(55)"
   ]
  },
  {
   "cell_type": "code",
   "execution_count": 46,
   "metadata": {},
   "outputs": [],
   "source": [
    "*b, = \"abcde\"\n"
   ]
  },
  {
   "cell_type": "code",
   "execution_count": 47,
   "metadata": {},
   "outputs": [
    {
     "data": {
      "text/plain": [
       "['a', 'b', 'c', 'd', 'e']"
      ]
     },
     "execution_count": 47,
     "metadata": {},
     "output_type": "execute_result"
    }
   ],
   "source": [
    "b"
   ]
  },
  {
   "cell_type": "code",
   "execution_count": 52,
   "metadata": {},
   "outputs": [
    {
     "data": {
      "text/plain": [
       "['5', '45']"
      ]
     },
     "execution_count": 52,
     "metadata": {},
     "output_type": "execute_result"
    }
   ],
   "source": [
    "*a, = input(\"\").split()\n",
    "a"
   ]
  },
  {
   "cell_type": "code",
   "execution_count": null,
   "metadata": {},
   "outputs": [],
   "source": []
  },
  {
   "cell_type": "markdown",
   "metadata": {},
   "source": [
    "Merhaba Arkadaşlar :man-raising-hand:nasılsınız uzun süre görüşemedik\n",
    "Buyrun size hafta sonu atıştırmalık bir soru\n",
    "Make a solution that takes a list of numbers or strings and returns a list with the items from the original list stored into sublists. Items of the same value should be in the same sublist.\n",
    "Examples [2, 1, 2, 1] ➞ [[2, 2], [1, 1]],\n",
    "[5, 4, 5, 5, 4, 3] ➞ [[5, 5, 5], [4, 4], [3]],\n",
    "[\"b\", \"a\", \"b\", \"a\", \"c\"] ➞ [[\"b\", \"b\"], [\"a\", \"a\"], [\"c\"]]\n",
    "Notes The sublists should be returned in the order of each element's first appearance in the given list."
   ]
  },
  {
   "cell_type": "code",
   "execution_count": 55,
   "metadata": {},
   "outputs": [
    {
     "name": "stdout",
     "output_type": "stream",
     "text": [
      "[[5, 5, 5], [4, 4], [3]]\n"
     ]
    }
   ],
   "source": [
    "\n",
    "n = [5, 4, 5, 5, 4, 3]\n",
    "dict1 = {}\n",
    "for i in n:\n",
    "    if i in dict1:\n",
    "       dict1[i] += [i]\n",
    "    else:\n",
    "        dict1[i] = [i]\n",
    "print(list(dict1.values()))"
   ]
  },
  {
   "cell_type": "code",
   "execution_count": 60,
   "metadata": {},
   "outputs": [
    {
     "name": "stdout",
     "output_type": "stream",
     "text": [
      "[['2'], ['3'], ['4', '4'], ['5', '5']]\n"
     ]
    }
   ],
   "source": [
    "\n",
    "n = \"234554\"\n",
    "dict1 = {}\n",
    "for i in n:\n",
    "    if i in dict1:\n",
    "       dict1[i].append(i)\n",
    "    else:\n",
    "        dict1[i] = [i]\n",
    "print(list(dict1.values()))"
   ]
  },
  {
   "cell_type": "code",
   "execution_count": null,
   "metadata": {},
   "outputs": [],
   "source": [
    "dict1[i] = [i]"
   ]
  }
 ],
 "metadata": {
  "interpreter": {
   "hash": "e55666fbbf217aa3df372b978577f47b6009e2f78e2ec76a584f49cd54a1e62c"
  },
  "kernelspec": {
   "display_name": "Python 2.7.18 64-bit",
   "language": "python",
   "name": "python3"
  },
  "language_info": {
   "codemirror_mode": {
    "name": "ipython",
    "version": 3
   },
   "file_extension": ".py",
   "mimetype": "text/x-python",
   "name": "python",
   "nbconvert_exporter": "python",
   "pygments_lexer": "ipython3",
   "version": "3.8.10"
  },
  "orig_nbformat": 4
 },
 "nbformat": 4,
 "nbformat_minor": 2
}
