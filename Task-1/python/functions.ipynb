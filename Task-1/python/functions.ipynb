{
 "cells": [
  {
   "cell_type": "code",
   "execution_count": 6,
   "metadata": {},
   "outputs": [
    {
     "name": "stdout",
     "output_type": "stream",
     "text": [
      "task completed\n",
      "2022-03-07 13:28:11.607146\n",
      "\n",
      "0\n",
      "1\n",
      "2\n",
      "3\n",
      "4\n",
      "5\n",
      "6\n",
      "7\n",
      "8\n",
      "9\n",
      "task completed\n",
      "2022-03-07 13:28:11.607934\n",
      "\n"
     ]
    }
   ],
   "source": [
    "import datetime\n",
    "def print_time():\n",
    "    print(\"task completed\")\n",
    "    print(datetime.datetime.now())\n",
    "    print()\n",
    "    \n",
    "    \n",
    "first_name = \"susan\"\n",
    "print_time()\n",
    "\n",
    "for x in range(0,10):\n",
    "    print(x)\n",
    "print_time()"
   ]
  },
  {
   "cell_type": "code",
   "execution_count": 8,
   "metadata": {},
   "outputs": [
    {
     "ename": "SyntaxError",
     "evalue": "invalid syntax (2749392024.py, line 1)",
     "output_type": "error",
     "traceback": [
      "\u001b[0;36m  Input \u001b[0;32mIn [8]\u001b[0;36m\u001b[0m\n\u001b[0;31m    form datetime import datetime\u001b[0m\n\u001b[0m         ^\u001b[0m\n\u001b[0;31mSyntaxError\u001b[0m\u001b[0;31m:\u001b[0m invalid syntax\n"
     ]
    }
   ],
   "source": [
    "def "
   ]
  },
  {
   "cell_type": "code",
   "execution_count": 22,
   "metadata": {},
   "outputs": [
    {
     "name": "stdout",
     "output_type": "stream",
     "text": [
      "73\n"
     ]
    }
   ],
   "source": [
    "max_profit = 0\n",
    "prices = [7, 5, 78, 45, 36]\n",
    "for i in range(len(prices)):\n",
    "    for j in range(i+1, len(prices)):\n",
    "        profit = prices[j]-prices[i]\n",
    "        if profit > max_profit:\n",
    "            max_profit = profit\n",
    "print(max_profit)\n",
    "\n"
   ]
  },
  {
   "cell_type": "code",
   "execution_count": 25,
   "metadata": {},
   "outputs": [
    {
     "ename": "TypeError",
     "evalue": "int() takes at most 2 arguments (21 given)",
     "output_type": "error",
     "traceback": [
      "\u001b[0;31m---------------------------------------------------------------------------\u001b[0m",
      "\u001b[0;31mTypeError\u001b[0m                                 Traceback (most recent call last)",
      "\u001b[1;32m/home/mirac/Documents/Task-1/python/functions.ipynb Cell 4'\u001b[0m in \u001b[0;36m<module>\u001b[0;34m\u001b[0m\n\u001b[1;32m      <a href='vscode-notebook-cell:/home/mirac/Documents/Task-1/python/functions.ipynb#ch0000003?line=0'>1</a>\u001b[0m max_profit \u001b[39m=\u001b[39m \u001b[39m0\u001b[39m\n\u001b[0;32m----> <a href='vscode-notebook-cell:/home/mirac/Documents/Task-1/python/functions.ipynb#ch0000003?line=1'>2</a>\u001b[0m liste \u001b[39m=\u001b[39m \u001b[39mint\u001b[39;49m(\u001b[39m*\u001b[39;49m\u001b[39minput\u001b[39;49m())\n\u001b[1;32m      <a href='vscode-notebook-cell:/home/mirac/Documents/Task-1/python/functions.ipynb#ch0000003?line=2'>3</a>\u001b[0m \u001b[39mfor\u001b[39;00m i \u001b[39min\u001b[39;00m liste:\n\u001b[1;32m      <a href='vscode-notebook-cell:/home/mirac/Documents/Task-1/python/functions.ipynb#ch0000003?line=3'>4</a>\u001b[0m     \u001b[39mfor\u001b[39;00m j \u001b[39min\u001b[39;00m liste:\n",
      "\u001b[0;31mTypeError\u001b[0m: int() takes at most 2 arguments (21 given)"
     ]
    }
   ],
   "source": [
    "max_profit = 0\n",
    "liste = int(*input())\n",
    "for i in liste:\n",
    "    for j in liste:\n",
    "        if j - i > max_profit:\n",
    "            max_profit= j-i\n",
    "print(max_profit)\n"
   ]
  },
  {
   "cell_type": "code",
   "execution_count": 27,
   "metadata": {},
   "outputs": [
    {
     "name": "stdout",
     "output_type": "stream",
     "text": [
      "[6, 7, 8, 9, 10]\n"
     ]
    }
   ],
   "source": [
    "number_list = [1, 2, 3, 4, 5, 6, 7, 8, 9, 10]\n",
    "\n",
    "result = list(filter(lambda x: True if x>=6 else False ,number_list))  \n",
    "print(result)"
   ]
  },
  {
   "cell_type": "code",
   "execution_count": 29,
   "metadata": {},
   "outputs": [
    {
     "data": {
      "text/plain": [
       "0"
      ]
     },
     "execution_count": 29,
     "metadata": {},
     "output_type": "execute_result"
    }
   ],
   "source": [
    "0%3"
   ]
  },
  {
   "cell_type": "code",
   "execution_count": 37,
   "metadata": {},
   "outputs": [
    {
     "name": "stdout",
     "output_type": "stream",
     "text": [
      "25\n"
     ]
    }
   ],
   "source": [
    "square = (lambda x:x**2)(5)\n",
    "print(square)\n"
   ]
  },
  {
   "cell_type": "code",
   "execution_count": 46,
   "metadata": {},
   "outputs": [
    {
     "name": "stdout",
     "output_type": "stream",
     "text": [
      "1 3 5 7 9\n"
     ]
    }
   ],
   "source": [
    "number_list=[1, 2, 3, 4, 5, 6, 7, 8, 9, 10]\n",
    "\n",
    "result= list(filter(lambda x: True if x%2 ==1 else False, number_list))   \n",
    "\n",
    "print(*result)"
   ]
  },
  {
   "cell_type": "code",
   "execution_count": 58,
   "metadata": {},
   "outputs": [
    {
     "name": "stdout",
     "output_type": "stream",
     "text": [
      "153 is a Armstrong number\n"
     ]
    }
   ],
   "source": [
    "while True:\n",
    "    number = input(\"enter a positive integer number: \")\n",
    "    digit = len(number)\n",
    "    sum = 0\n",
    "    if not number.isdigit():\n",
    "        print(\"you entered a wrong number\")\n",
    "    elif int(number)>=0:\n",
    "        for i in range(digit):\n",
    "            sum = sum + int(number[i])**digit\n",
    "        if sum == int(number):\n",
    "            print(number, \"is a Armstrong number\")\n",
    "            break\n",
    "        else:\n",
    "            print(number, \"is not a Armstrong number\")\n",
    "            break\n"
   ]
  },
  {
   "cell_type": "code",
   "execution_count": 62,
   "metadata": {},
   "outputs": [
    {
     "name": "stdout",
     "output_type": "stream",
     "text": [
      "25 is not a pirme number\n"
     ]
    }
   ],
   "source": [
    "n = int(input())\n",
    "counter = 0\n",
    "for i in range(1, n+1):\n",
    "    if n%i == 0:\n",
    "        counter +=1\n",
    "if (n ==0) or (n ==1) or (counter >=3):\n",
    "    print(n, \"is not a pirme number\")\n",
    "else:\n",
    "    print(n, \"is a prime number\")"
   ]
  },
  {
   "cell_type": "code",
   "execution_count": 60,
   "metadata": {},
   "outputs": [],
   "source": [
    "numbers = list(range(55))"
   ]
  },
  {
   "cell_type": "code",
   "execution_count": 63,
   "metadata": {},
   "outputs": [],
   "source": [
    "sayılar = []\n",
    "for i in range(5):\n",
    "    sayılar.append(i)"
   ]
  },
  {
   "cell_type": "code",
   "execution_count": 64,
   "metadata": {},
   "outputs": [
    {
     "data": {
      "text/plain": [
       "[0, 1, 2, 3, 4]"
      ]
     },
     "execution_count": 64,
     "metadata": {},
     "output_type": "execute_result"
    }
   ],
   "source": [
    "[i for i in range(5)]"
   ]
  },
  {
   "cell_type": "markdown",
   "metadata": {},
   "source": [
    "''' python\n",
    "if condition:\n",
    "    execute-body1\n",
    "else:\n",
    "    execute-body2\n",
    "'''"
   ]
  },
  {
   "cell_type": "code",
   "execution_count": null,
   "metadata": {},
   "outputs": [],
   "source": [
    "execute-body1 if condition else execute-body2"
   ]
  },
  {
   "cell_type": "code",
   "execution_count": 68,
   "metadata": {},
   "outputs": [],
   "source": [
    "my_list = [1, 2, 3, 4, 5]"
   ]
  },
  {
   "cell_type": "code",
   "execution_count": 69,
   "metadata": {},
   "outputs": [
    {
     "data": {
      "text/plain": [
       "[1, 9, 25]"
      ]
     },
     "execution_count": 69,
     "metadata": {},
     "output_type": "execute_result"
    }
   ],
   "source": [
    "[i**2 for i in my_list if i % 2]"
   ]
  },
  {
   "cell_type": "code",
   "execution_count": 70,
   "metadata": {},
   "outputs": [
    {
     "data": {
      "text/plain": [
       "[4, 16]"
      ]
     },
     "execution_count": 70,
     "metadata": {},
     "output_type": "execute_result"
    }
   ],
   "source": [
    "[i**2 for i in my_list if not i % 2]"
   ]
  },
  {
   "cell_type": "code",
   "execution_count": 10,
   "metadata": {},
   "outputs": [
    {
     "name": "stdout",
     "output_type": "stream",
     "text": [
      "[0, 1, 1, 2, 3, 5, 8, 13, 21, 34, 55]\n"
     ]
    }
   ],
   "source": [
    "liste = []\n",
    "x = 0\n",
    "num = int(input(\"\"))\n",
    "for i in range(num+1):\n",
    "    if i == 0:\n",
    "        liste.append(i)\n",
    "        x+=1\n",
    "    elif i == 1:\n",
    "        liste.append(i)\n",
    "        x +=1\n",
    "    else:\n",
    "        y = liste[x-2] + liste[x-1]\n",
    "        if y >num:\n",
    "            break\n",
    "        liste.append(y)\n",
    "        x +=1\n",
    "print(liste)"
   ]
  },
  {
   "cell_type": "code",
   "execution_count": 2,
   "metadata": {},
   "outputs": [
    {
     "name": "stdout",
     "output_type": "stream",
     "text": [
      "[0, 1, 1, 2, 3, 5, 8, 13, 21, 34, 55, 89, 144, 233, 377, 610, 987, 1597, 2584, 4181, 6765, 10946, 17711, 28657, 46368, 75025, 121393, 196418, 317811, 514229, 832040, 1346269, 2178309, 3524578, 5702887, 9227465, 14930352, 24157817, 39088169, 63245986, 102334155, 165580141, 267914296, 433494437, 701408733]\n"
     ]
    }
   ],
   "source": [
    "n = int(input(\"enter a number: \"))\n",
    "fibonacci = []\n",
    "\n",
    "for i in range(n + 1):\n",
    "    if i == 0:\n",
    "        fibonacci.append(i)\n",
    "    elif i == 1:\n",
    "        fibonacci.append(i)\n",
    "    else:\n",
    "        f_number = fibonacci[i - 1] + fibonacci[i - 2]\n",
    "        fibonacci.append(f_number)\n",
    "\n",
    "print(fibonacci)"
   ]
  },
  {
   "cell_type": "code",
   "execution_count": 4,
   "metadata": {},
   "outputs": [
    {
     "name": "stdout",
     "output_type": "stream",
     "text": [
      "{1, 2, 3, 4}\n"
     ]
    }
   ],
   "source": [
    "set1 = {1, 2, 3}\n",
    "set2 = set1.copy()\n",
    "set2.add(4)\n",
    "print(set2)"
   ]
  },
  {
   "cell_type": "code",
   "execution_count": 10,
   "metadata": {},
   "outputs": [
    {
     "name": "stdout",
     "output_type": "stream",
     "text": [
      "1\n",
      "3\n"
     ]
    }
   ],
   "source": [
    "D = {1 : 1, 2 : '2', '1' : 1, '2' : 3}\n",
    "D['1'] = 2\n",
    "print(D[1])\n",
    "print(D[D[D[str(D[1])]]])"
   ]
  },
  {
   "cell_type": "code",
   "execution_count": 8,
   "metadata": {},
   "outputs": [
    {
     "data": {
      "text/plain": [
       "[[1, [2, 3], 4], 7, 8, 9]"
      ]
     },
     "execution_count": 8,
     "metadata": {},
     "output_type": "execute_result"
    }
   ],
   "source": [
    "L1 = []\n",
    "L1.append([1, [2, 3], 4])\n",
    "L1.extend([7, 8, 9])\n",
    "L1"
   ]
  },
  {
   "cell_type": "code",
   "execution_count": 9,
   "metadata": {},
   "outputs": [
    {
     "name": "stdout",
     "output_type": "stream",
     "text": [
      "5 8\n"
     ]
    }
   ],
   "source": [
    "T = (1, 2, 3, 4, 5, 6, 7, 8)\n",
    "print(T[T.index(5)], end = \" \")\n",
    "print(T[T[T[6]-3]-6])"
   ]
  },
  {
   "cell_type": "code",
   "execution_count": 8,
   "metadata": {},
   "outputs": [],
   "source": [
    "def absolute_value(x):\n",
    "    '''abs fonksiyonu pozitif yapar.'''\n",
    "    return abs(x) \n",
    "    "
   ]
  },
  {
   "cell_type": "code",
   "execution_count": 2,
   "metadata": {},
   "outputs": [
    {
     "data": {
      "text/plain": [
       "5.5"
      ]
     },
     "execution_count": 2,
     "metadata": {},
     "output_type": "execute_result"
    }
   ],
   "source": [
    "absolute_value(5.5)"
   ]
  },
  {
   "cell_type": "code",
   "execution_count": 3,
   "metadata": {},
   "outputs": [
    {
     "data": {
      "text/plain": [
       "25"
      ]
     },
     "execution_count": 3,
     "metadata": {},
     "output_type": "execute_result"
    }
   ],
   "source": [
    "absolute_value(-25)"
   ]
  },
  {
   "cell_type": "code",
   "execution_count": 9,
   "metadata": {},
   "outputs": [
    {
     "name": "stdout",
     "output_type": "stream",
     "text": [
      "abs fonksiyonu pozitif yapar.\n"
     ]
    }
   ],
   "source": [
    "print(absolute_value.__doc__)"
   ]
  },
  {
   "cell_type": "code",
   "execution_count": 25,
   "metadata": {},
   "outputs": [],
   "source": [
    "a = \"i \"\n",
    "b = \"love \"\n",
    "c = \"you\"\n",
    "def texter(x,y,z):\n",
    "    return (a + b + c)"
   ]
  },
  {
   "cell_type": "code",
   "execution_count": 26,
   "metadata": {},
   "outputs": [
    {
     "name": "stdout",
     "output_type": "stream",
     "text": [
      "i love you\n"
     ]
    }
   ],
   "source": [
    "print(texter(c, a, b))"
   ]
  },
  {
   "cell_type": "code",
   "execution_count": 8,
   "metadata": {},
   "outputs": [],
   "source": [
    "def func(x = \"ali\", y = 11):\n",
    "    print(x, y, \"yaşındadır\")"
   ]
  },
  {
   "cell_type": "code",
   "execution_count": 13,
   "metadata": {},
   "outputs": [
    {
     "name": "stdout",
     "output_type": "stream",
     "text": [
      "ali 11 yaşındadır\n"
     ]
    }
   ],
   "source": [
    "func()"
   ]
  },
  {
   "cell_type": "code",
   "execution_count": 15,
   "metadata": {},
   "outputs": [
    {
     "name": "stdout",
     "output_type": "stream",
     "text": [
      "3.3 33 yaşındadır\n"
     ]
    }
   ],
   "source": [
    "func(y=33, x= 3.3)"
   ]
  },
  {
   "cell_type": "code",
   "execution_count": 16,
   "metadata": {},
   "outputs": [
    {
     "name": "stdout",
     "output_type": "stream",
     "text": [
      "veli 40 yaşındadır\n"
     ]
    }
   ],
   "source": [
    "func(\"veli\", 40)"
   ]
  },
  {
   "cell_type": "code",
   "execution_count": 18,
   "metadata": {},
   "outputs": [
    {
     "name": "stdout",
     "output_type": "stream",
     "text": [
      "veli 11 yaşındadır\n"
     ]
    }
   ],
   "source": [
    "func(\"veli\")"
   ]
  },
  {
   "cell_type": "code",
   "execution_count": 19,
   "metadata": {},
   "outputs": [
    {
     "name": "stdout",
     "output_type": "stream",
     "text": [
      "33 11 yaşındadır\n"
     ]
    }
   ],
   "source": [
    "func(33) #  pozisional olduğu için  bu şekilde çıktı verir."
   ]
  },
  {
   "cell_type": "code",
   "execution_count": 21,
   "metadata": {},
   "outputs": [],
   "source": [
    "def parrot(voltage, state='a stiff', action='voom', type='Norwegian Blue'):\n",
    "    print(\"-- This parrot wouldn't\", action, end=' ')\n",
    "    print(\"if you put\", voltage, \"volts through it.\")\n",
    "    print(\"-- Lovely plumage, the\", type)\n",
    "    print(\"-- It's\", state, \"!\")"
   ]
  },
  {
   "cell_type": "code",
   "execution_count": 22,
   "metadata": {},
   "outputs": [
    {
     "name": "stdout",
     "output_type": "stream",
     "text": [
      "-- This parrot wouldn't voom if you put 1000 volts through it.\n",
      "-- Lovely plumage, the Norwegian Blue\n",
      "-- It's a stiff !\n"
     ]
    }
   ],
   "source": [
    "parrot(1000)"
   ]
  },
  {
   "cell_type": "code",
   "execution_count": 24,
   "metadata": {},
   "outputs": [
    {
     "name": "stdout",
     "output_type": "stream",
     "text": [
      "-- This parrot wouldn't jump if you put a millon volts through it.\n",
      "-- Lovely plumage, the Norwegian Blue\n",
      "-- It's berret !\n"
     ]
    }
   ],
   "source": [
    "parrot(\"a millon\", \"berret\", \"jump\") #  positinal olarak değerleniyorlar "
   ]
  },
  {
   "cell_type": "code",
   "execution_count": 25,
   "metadata": {},
   "outputs": [
    {
     "name": "stdout",
     "output_type": "stream",
     "text": [
      "-- This parrot wouldn't voom if you put a thousand  volts through it.\n",
      "-- Lovely plumage, the Norwegian Blue\n",
      "-- It's a stiff !\n"
     ]
    }
   ],
   "source": [
    "parrot(\"a thousand \")"
   ]
  },
  {
   "cell_type": "code",
   "execution_count": null,
   "metadata": {},
   "outputs": [],
   "source": [
    "#  önce positionalları bitirecez sonra key wordsler"
   ]
  },
  {
   "cell_type": "code",
   "execution_count": 27,
   "metadata": {},
   "outputs": [
    {
     "ename": "SyntaxError",
     "evalue": "positional argument follows keyword argument (4205453115.py, line 1)",
     "output_type": "error",
     "traceback": [
      "\u001b[0;36m  Input \u001b[0;32mIn [27]\u001b[0;36m\u001b[0m\n\u001b[0;31m    parrot(state = \"ball\", \" a biilon\") # olmaz bu pozisional sonra gelmiş\u001b[0m\n\u001b[0m                           ^\u001b[0m\n\u001b[0;31mSyntaxError\u001b[0m\u001b[0;31m:\u001b[0m positional argument follows keyword argument\n"
     ]
    }
   ],
   "source": [
    "parrot(state = \"ball\", \" a biilon\") # olmaz bu pozisional sonra gelmiş "
   ]
  },
  {
   "cell_type": "code",
   "execution_count": 28,
   "metadata": {},
   "outputs": [
    {
     "ename": "SyntaxError",
     "evalue": "non-default argument follows default argument (1032546550.py, line 1)",
     "output_type": "error",
     "traceback": [
      "\u001b[0;36m  Input \u001b[0;32mIn [28]\u001b[0;36m\u001b[0m\n\u001b[0;31m    def argu(a, b=\"dünya\", c, d=\"satürn\"):\u001b[0m\n\u001b[0m             ^\u001b[0m\n\u001b[0;31mSyntaxError\u001b[0m\u001b[0;31m:\u001b[0m non-default argument follows default argument\n"
     ]
    }
   ],
   "source": [
    "def argu(a, b=\"dünya\", c, d=\"satürn\"):\n",
    "    print(a,b,c,d, sep=\"\\n\")"
   ]
  },
  {
   "cell_type": "code",
   "execution_count": 29,
   "metadata": {},
   "outputs": [],
   "source": [
    "def argu(a, c, b=\"dünya\", d=\"satürn\"):\n",
    "    print(a,b,c,d, sep=\"\\n\")"
   ]
  },
  {
   "cell_type": "code",
   "execution_count": 30,
   "metadata": {},
   "outputs": [
    {
     "ename": "TypeError",
     "evalue": "argu() missing 2 required positional arguments: 'a' and 'c'",
     "output_type": "error",
     "traceback": [
      "\u001b[0;31m---------------------------------------------------------------------------\u001b[0m",
      "\u001b[0;31mTypeError\u001b[0m                                 Traceback (most recent call last)",
      "\u001b[1;32m/home/mirac/Documents/Task-1/python/functions.ipynb Cell 45'\u001b[0m in \u001b[0;36m<module>\u001b[0;34m\u001b[0m\n\u001b[0;32m----> <a href='vscode-notebook-cell:/home/mirac/Documents/Task-1/python/functions.ipynb#ch0000047?line=0'>1</a>\u001b[0m argu()\n",
      "\u001b[0;31mTypeError\u001b[0m: argu() missing 2 required positional arguments: 'a' and 'c'"
     ]
    }
   ],
   "source": [
    "argu() #  pozisional argğmanlara değer atamamız lazım."
   ]
  },
  {
   "cell_type": "code",
   "execution_count": 31,
   "metadata": {},
   "outputs": [
    {
     "name": "stdout",
     "output_type": "stream",
     "text": [
      "uranüs\n",
      "dünya\n",
      "jüpiter\n",
      "satürn\n"
     ]
    }
   ],
   "source": [
    "argu(\"uranüs\", \"jüpiter\")"
   ]
  },
  {
   "cell_type": "code",
   "execution_count": null,
   "metadata": {},
   "outputs": [],
   "source": [
    "def argu(a, b=\"dünya\", c, d=\"satürn\"):\n",
    "    print(a,b,c,d, sep=\"\\n\")"
   ]
  },
  {
   "cell_type": "code",
   "execution_count": 32,
   "metadata": {},
   "outputs": [
    {
     "name": "stdout",
     "output_type": "stream",
     "text": [
      "uranüs\n",
      "dünya\n",
      "jüpiter\n",
      "satürn\n"
     ]
    }
   ],
   "source": [
    "argu(a= \"uranüs\", c= \"jüpiter\")"
   ]
  },
  {
   "cell_type": "code",
   "execution_count": 34,
   "metadata": {},
   "outputs": [
    {
     "ename": "SyntaxError",
     "evalue": "positional argument follows keyword argument (2222287629.py, line 1)",
     "output_type": "error",
     "traceback": [
      "\u001b[0;36m  Input \u001b[0;32mIn [34]\u001b[0;36m\u001b[0m\n\u001b[0;31m    argu(\"plüto\",c= \"venüs\", \"mars\") # positional argümants önce gelecek sonra keywords argümants.\u001b[0m\n\u001b[0m                               ^\u001b[0m\n\u001b[0;31mSyntaxError\u001b[0m\u001b[0;31m:\u001b[0m positional argument follows keyword argument\n"
     ]
    }
   ],
   "source": [
    "argu(\"plüto\",c= \"venüs\", \"mars\") # positional argümants önce gelecek, sonra keywords argümants."
   ]
  },
  {
   "cell_type": "code",
   "execution_count": 36,
   "metadata": {},
   "outputs": [
    {
     "ename": "TypeError",
     "evalue": "argu() got multiple values for argument 'c'",
     "output_type": "error",
     "traceback": [
      "\u001b[0;31m---------------------------------------------------------------------------\u001b[0m",
      "\u001b[0;31mTypeError\u001b[0m                                 Traceback (most recent call last)",
      "\u001b[1;32m/home/mirac/Documents/Task-1/python/functions.ipynb Cell 50'\u001b[0m in \u001b[0;36m<module>\u001b[0;34m\u001b[0m\n\u001b[0;32m----> <a href='vscode-notebook-cell:/home/mirac/Documents/Task-1/python/functions.ipynb#ch0000052?line=0'>1</a>\u001b[0m argu(\u001b[39m\"\u001b[39;49m\u001b[39mplüto\u001b[39;49m\u001b[39m\"\u001b[39;49m,\u001b[39m\"\u001b[39;49m\u001b[39mmars\u001b[39;49m\u001b[39m\"\u001b[39;49m,c\u001b[39m=\u001b[39;49m \u001b[39m\"\u001b[39;49m\u001b[39mvenüs\u001b[39;49m\u001b[39m\"\u001b[39;49m)\n",
      "\u001b[0;31mTypeError\u001b[0m: argu() got multiple values for argument 'c'"
     ]
    }
   ],
   "source": [
    "argu(\"plüto\",\"mars\",c= \"venüs\") #  c paramtresine birden fazla değer yollamaya çalışıyoruz.Bu olmaz."
   ]
  },
  {
   "cell_type": "code",
   "execution_count": 37,
   "metadata": {},
   "outputs": [
    {
     "name": "stdout",
     "output_type": "stream",
     "text": [
      "dünyaa\n",
      "merhaba\n",
      "plüto\n",
      "güneş\n"
     ]
    }
   ],
   "source": [
    "argu(d= \"güneş\", a = \"dünyaa\", c= \"plüto\", b = \"merhaba\")"
   ]
  },
  {
   "cell_type": "code",
   "execution_count": 38,
   "metadata": {},
   "outputs": [
    {
     "name": "stdout",
     "output_type": "stream",
     "text": [
      "güneş\n",
      "plüto\n",
      "dünyaa\n",
      "merhaba\n"
     ]
    }
   ],
   "source": [
    "argu(\"güneş\",\"dünyaa\",\"plüto\",\"merhaba\")"
   ]
  },
  {
   "cell_type": "code",
   "execution_count": 39,
   "metadata": {},
   "outputs": [],
   "source": [
    "def funciton(a):\n",
    "    pass #  o satırı geçer."
   ]
  },
  {
   "cell_type": "code",
   "execution_count": 40,
   "metadata": {},
   "outputs": [
    {
     "name": "stdout",
     "output_type": "stream",
     "text": [
      " I want to get :\n",
      "- orange\n",
      "- banana\n",
      "- melon\n",
      "- ananas\n"
     ]
    }
   ],
   "source": [
    "def city(*fruit):\n",
    "    print(\" I want to get :\")\n",
    "    for i in fruit:\n",
    "        print(\"-\", i)\n",
    "city(\"orange\", \"banana\",\"melon\", \"ananas\")"
   ]
  },
  {
   "cell_type": "code",
   "execution_count": 44,
   "metadata": {},
   "outputs": [
    {
     "name": "stdout",
     "output_type": "stream",
     "text": [
      "<class 'tuple'>\n"
     ]
    }
   ],
   "source": [
    "def city(*fruit):\n",
    "    print(type(fruit))\n",
    "city(\"orange\", \"banana\",\"melon\", \"ananas\")"
   ]
  },
  {
   "cell_type": "code",
   "execution_count": 59,
   "metadata": {},
   "outputs": [
    {
     "name": "stdout",
     "output_type": "stream",
     "text": [
      "even list: [2, 4, 6, 8]\n",
      "odds list: [1, 3, 5, 7, 9]\n"
     ]
    }
   ],
   "source": [
    "def slicer(*num):\n",
    "    evens = []\n",
    "    odds = []\n",
    "    for i in num:\n",
    "        if i%2 ==0:\n",
    "            evens.append(i)\n",
    "        else:\n",
    "            odds.append(i)\n",
    "    print(\"even list:\", evens)\n",
    "    print(\"odds list:\", odds)\n",
    "        \n",
    "slicer(1,2,3,4,5,6,7,8,9)"
   ]
  },
  {
   "cell_type": "code",
   "execution_count": 61,
   "metadata": {},
   "outputs": [
    {
     "data": {
      "text/plain": [
       "(0, 1, 2, 3, 4, 5, 6, 7, 8, 9)"
      ]
     },
     "execution_count": 61,
     "metadata": {},
     "output_type": "execute_result"
    }
   ],
   "source": [
    "*range(10),"
   ]
  },
  {
   "cell_type": "code",
   "execution_count": 62,
   "metadata": {},
   "outputs": [],
   "source": [
    "def animal(**kwargs):\n",
    "    for key, value in kwargs.items():\n",
    "        print(value, \"are\", key)"
   ]
  },
  {
   "cell_type": "code",
   "execution_count": 63,
   "metadata": {},
   "outputs": [
    {
     "name": "stdout",
     "output_type": "stream",
     "text": [
      "lions are Carnivores\n"
     ]
    }
   ],
   "source": [
    "animal(Carnivores = \"lions\")"
   ]
  },
  {
   "cell_type": "code",
   "execution_count": 70,
   "metadata": {},
   "outputs": [
    {
     "name": "stdout",
     "output_type": "stream",
     "text": [
      "['Beth', 'Oscar', 'Justin', 'Frank']\n",
      "[26, 42, 18, 33]\n"
     ]
    }
   ],
   "source": [
    "def organizer(**kwargs):\n",
    "    key1= []\n",
    "    value1 = []\n",
    "    for key,value in kwargs.items():\n",
    "        key1.append(key)\n",
    "        value1.append(value)\n",
    "    print(key1)\n",
    "    print(value1)\n",
    "organizer(Beth = 26, Oscar = 42, Justin = 18, Frank = 33)\n",
    "\n"
   ]
  },
  {
   "cell_type": "code",
   "execution_count": 75,
   "metadata": {},
   "outputs": [
    {
     "name": "stdout",
     "output_type": "stream",
     "text": [
      "['Beth', 'Oscar', 'Justin', 'Frank']\n",
      "[26, 42, 18, 33]\n"
     ]
    }
   ],
   "source": [
    "def organizer(**kwargs):\n",
    "    print([*kwargs.keys()])\n",
    "    print([*kwargs.values()])\n",
    "organizer(Beth = 26, Oscar = 42, Justin = 18, Frank = 33)"
   ]
  },
  {
   "cell_type": "code",
   "execution_count": null,
   "metadata": {},
   "outputs": [],
   "source": []
  }
 ],
 "metadata": {
  "interpreter": {
   "hash": "916dbcbb3f70747c44a77c7bcd40155683ae19c65e1c03b4aa3499c5328201f1"
  },
  "kernelspec": {
   "display_name": "Python 3.8.10 64-bit",
   "language": "python",
   "name": "python3"
  },
  "language_info": {
   "codemirror_mode": {
    "name": "ipython",
    "version": 3
   },
   "file_extension": ".py",
   "mimetype": "text/x-python",
   "name": "python",
   "nbconvert_exporter": "python",
   "pygments_lexer": "ipython3",
   "version": "3.8.10"
  },
  "orig_nbformat": 4
 },
 "nbformat": 4,
 "nbformat_minor": 2
}
