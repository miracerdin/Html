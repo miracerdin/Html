{
 "cells": [
  {
   "cell_type": "code",
   "execution_count": 2,
   "metadata": {},
   "outputs": [
    {
     "data": {
      "text/plain": [
       "[1, 1, 2, 3, 5, 8, 13, 21, 34, 55]"
      ]
     },
     "execution_count": 2,
     "metadata": {},
     "output_type": "execute_result"
    }
   ],
   "source": [
    "fibo = [1,1]\n",
    "for i in range(8):\n",
    "    fibo.append((fibo[i]+fibo[i+1]))\n",
    "fibo"
   ]
  },
  {
   "cell_type": "code",
   "execution_count": 5,
   "metadata": {},
   "outputs": [
    {
     "name": "stdout",
     "output_type": "stream",
     "text": [
      "The type of returned object is:  <class 'filter'>\n",
      "The list of vowels is:  ['e', 'i', 'e', 'e', 'a', 'a', 'ı', 'e', 'u', 'u', 'u', 'u', 'o', 'u', 'e', 'e', 'i', 'i', 'u', 'u', 'u', 'o', 'u']\n"
     ]
    }
   ],
   "source": [
    "def check(letter):\n",
    "    list_of_vowels = ['a', 'e', 'i',\"ı\",\"ü\", \"ö\", 'o', 'u']\n",
    "    if letter in list_of_vowels:\n",
    "        return True\n",
    "    else:\n",
    "        return False\n",
    "cümle = \"ben size ders anlatırken huzur buluyorum. dertlerimi unutuyorum.\"\n",
    "\n",
    "filtered_object = filter(check, cümle)\n",
    "print(\"The type of returned object is: \", type(filtered_object))\n",
    "\n",
    "filtered_list = list(filtered_object)\n",
    "print(\"The list of vowels is: \", filtered_list)"
   ]
  },
  {
   "cell_type": "code",
   "execution_count": null,
   "metadata": {},
   "outputs": [],
   "source": [
    "filter(func, cümle) #  cümlenin tüm elemanlarını foksiyona tabi tutuyor. "
   ]
  },
  {
   "cell_type": "code",
   "execution_count": 6,
   "metadata": {},
   "outputs": [],
   "source": [
    "cümle = \"hey how are you\""
   ]
  },
  {
   "cell_type": "code",
   "execution_count": 18,
   "metadata": {},
   "outputs": [
    {
     "name": "stdout",
     "output_type": "stream",
     "text": [
      "{'o', 'ı', 'a'}\n",
      "[False, False, False, False, False, True, False, False, True, False, True, False, False, False, False, False, False, False, True, False, False, False, False, False, False]\n"
     ]
    }
   ],
   "source": [
    "def mapfonk(deneme):\n",
    "    i = [\"e\", \"a\", \"ı\", \"o\"]\n",
    "    if deneme in i:\n",
    "        return True\n",
    "    else:\n",
    "        return False\n",
    "calısma = \"bir varmışım bir yokmuşum\"\n",
    "onject = set(filter(mapfonk, calısma))\n",
    "onject1 = list(map(mapfonk, calısma))\n",
    "print(onject, onject1, sep=\"\\n\")\n"
   ]
  },
  {
   "cell_type": "code",
   "execution_count": 7,
   "metadata": {},
   "outputs": [
    {
     "ename": "TypeError",
     "evalue": "'int' object is not subscriptable",
     "output_type": "error",
     "traceback": [
      "\u001b[0;31m---------------------------------------------------------------------------\u001b[0m",
      "\u001b[0;31mTypeError\u001b[0m                                 Traceback (most recent call last)",
      "\u001b[1;32m/home/mirac/Documents/Task-1/python/Fibonacci.ipynb Cell 6'\u001b[0m in \u001b[0;36m<module>\u001b[0;34m\u001b[0m\n\u001b[1;32m      <a href='vscode-notebook-cell:/home/mirac/Documents/Task-1/python/Fibonacci.ipynb#ch0000005?line=7'>8</a>\u001b[0m         \u001b[39mreturn\u001b[39;00m i\n\u001b[1;32m     <a href='vscode-notebook-cell:/home/mirac/Documents/Task-1/python/Fibonacci.ipynb#ch0000005?line=9'>10</a>\u001b[0m prices \u001b[39m=\u001b[39m [\u001b[39m7\u001b[39m,\u001b[39m1\u001b[39m,\u001b[39m5\u001b[39m,\u001b[39m3\u001b[39m,\u001b[39m6\u001b[39m,\u001b[39m4\u001b[39m]\n\u001b[0;32m---> <a href='vscode-notebook-cell:/home/mirac/Documents/Task-1/python/Fibonacci.ipynb#ch0000005?line=10'>11</a>\u001b[0m \u001b[39mprint\u001b[39m(mapfonk(prices))\n",
      "\u001b[1;32m/home/mirac/Documents/Task-1/python/Fibonacci.ipynb Cell 6'\u001b[0m in \u001b[0;36mmapfonk\u001b[0;34m(i)\u001b[0m\n\u001b[1;32m      <a href='vscode-notebook-cell:/home/mirac/Documents/Task-1/python/Fibonacci.ipynb#ch0000005?line=3'>4</a>\u001b[0m \u001b[39mfor\u001b[39;00m i \u001b[39min\u001b[39;00m prices:\n\u001b[1;32m      <a href='vscode-notebook-cell:/home/mirac/Documents/Task-1/python/Fibonacci.ipynb#ch0000005?line=4'>5</a>\u001b[0m     \u001b[39mfor\u001b[39;00m j \u001b[39min\u001b[39;00m \u001b[39mrange\u001b[39m(\u001b[39mlen\u001b[39m(prices)):\n\u001b[0;32m----> <a href='vscode-notebook-cell:/home/mirac/Documents/Task-1/python/Fibonacci.ipynb#ch0000005?line=5'>6</a>\u001b[0m         i \u001b[39m-\u001b[39mi[j] \u001b[39m>\u001b[39m max_profit\n\u001b[1;32m      <a href='vscode-notebook-cell:/home/mirac/Documents/Task-1/python/Fibonacci.ipynb#ch0000005?line=6'>7</a>\u001b[0m         max_profit \u001b[39m=\u001b[39m i \u001b[39m-\u001b[39mi[j]\n\u001b[1;32m      <a href='vscode-notebook-cell:/home/mirac/Documents/Task-1/python/Fibonacci.ipynb#ch0000005?line=7'>8</a>\u001b[0m     \u001b[39mreturn\u001b[39;00m i\n",
      "\u001b[0;31mTypeError\u001b[0m: 'int' object is not subscriptable"
     ]
    }
   ],
   "source": [
    "\n",
    "def mapfonk(i):\n",
    "    \n",
    "    max_profit = 0\n",
    "    for i in prices:\n",
    "        for j in range(len(prices)):\n",
    "            i -i[j] > max_profit\n",
    "            max_profit = i -i[j]\n",
    "        return i\n",
    "    \n",
    "prices = [7,1,5,3,6,4]\n",
    "print(mapfonk(prices))\n"
   ]
  },
  {
   "cell_type": "code",
   "execution_count": 3,
   "metadata": {},
   "outputs": [
    {
     "name": "stdout",
     "output_type": "stream",
     "text": [
      "24\n"
     ]
    }
   ],
   "source": [
    "def factor(x):\n",
    "\n",
    "    result = 1\n",
    "    for i in range(x):\n",
    "        result *= (i+1)\n",
    "    return print(result)\n",
    "factor(4)"
   ]
  },
  {
   "cell_type": "code",
   "execution_count": 23,
   "metadata": {},
   "outputs": [
    {
     "name": "stdout",
     "output_type": "stream",
     "text": [
      "2022-03-17\n",
      "2022-03-17 16:29:58.077717\n"
     ]
    }
   ],
   "source": [
    "import datetime\n",
    "print(datetime.date.today())\n",
    "print(datetime.datetime.now())"
   ]
  },
  {
   "cell_type": "code",
   "execution_count": 38,
   "metadata": {},
   "outputs": [
    {
     "name": "stdout",
     "output_type": "stream",
     "text": [
      "Cape Town\n"
     ]
    }
   ],
   "source": [
    "from random import choice\n",
    "\n",
    "city = ['Stockholm', 'Istanbul', 'Seul', 'Cape Town']\n",
    "print(choice(city)) "
   ]
  },
  {
   "cell_type": "code",
   "execution_count": 53,
   "metadata": {},
   "outputs": [
    {
     "name": "stdout",
     "output_type": "stream",
     "text": [
      "8\n"
     ]
    }
   ],
   "source": [
    "import random\n",
    "print(random.randint(0, 10))"
   ]
  },
  {
   "cell_type": "markdown",
   "metadata": {},
   "source": []
  },
  {
   "cell_type": "code",
   "execution_count": null,
   "metadata": {},
   "outputs": [],
   "source": []
  }
 ],
 "metadata": {
  "interpreter": {
   "hash": "916dbcbb3f70747c44a77c7bcd40155683ae19c65e1c03b4aa3499c5328201f1"
  },
  "kernelspec": {
   "display_name": "Python 3.8.10 64-bit",
   "language": "python",
   "name": "python3"
  },
  "language_info": {
   "codemirror_mode": {
    "name": "ipython",
    "version": 3
   },
   "file_extension": ".py",
   "mimetype": "text/x-python",
   "name": "python",
   "nbconvert_exporter": "python",
   "pygments_lexer": "ipython3",
   "version": "3.8.10"
  },
  "orig_nbformat": 4
 },
 "nbformat": 4,
 "nbformat_minor": 2
}
